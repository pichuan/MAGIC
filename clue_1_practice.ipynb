{
  "nbformat": 4,
  "nbformat_minor": 0,
  "metadata": {
    "colab": {
      "name": "clue#1 practice",
      "version": "0.3.2",
      "provenance": [],
      "include_colab_link": true
    },
    "kernelspec": {
      "name": "python3",
      "display_name": "Python 3"
    }
  },
  "cells": [
    {
      "cell_type": "markdown",
      "metadata": {
        "id": "view-in-github",
        "colab_type": "text"
      },
      "source": [
        "<a href=\"https://colab.research.google.com/github/pichuan/MAGIC/blob/master/clue_1_practice.ipynb\" target=\"_parent\"><img src=\"https://colab.research.google.com/assets/colab-badge.svg\" alt=\"Open In Colab\"/></a>"
      ]
    },
    {
      "metadata": {
        "id": "RWgU9bx6PHQ4",
        "colab_type": "code",
        "colab": {
          "base_uri": "https://localhost:8080/",
          "height": 364
        },
        "cellView": "form",
        "outputId": "5e0c4da8-7750-4ff2-ed18-7601caa21e7f"
      },
      "cell_type": "code",
      "source": [
        "#@title Demo: Input some text, and this code will show you bar charts of frequency:\n",
        "\n",
        "text = 'gluhtlishjrvbadvyyplkaohavbyjpwolypzavvdlhrvuuleatlzzhnlzdpajoavcpnlulyljpwolyrlfdvykpzaolopkkluzftivsvmklhaoputfmhcvypalovsilpuluk' #@param {type:\"string\"}\n",
        "\n",
        "print('The input text is %s' % text)\n",
        "\n",
        "from collections import defaultdict\n",
        "counter = defaultdict(int)\n",
        "for c in text:\n",
        "  counter[c] += 1\n",
        "\n",
        "import matplotlib.pyplot as plt\n",
        "\n",
        "plt.bar(range(len(counter)), list(counter.values()), align='center')\n",
        "plt.xticks(range(len(counter)), list(counter.keys()))\n",
        "\n",
        "plt.show()"
      ],
      "execution_count": 13,
      "outputs": [
        {
          "output_type": "stream",
          "text": [
            "The input text is gluhtlishjrvbadvyyplkaohavbyjpwolypzavvdlhrvuuleatlzzhnlzdpajoavcpnlulyljpwolyrlfdvykpzaolopkkluzftivsvmklhaoputfmhcvypalovsilpuluk\n"
          ],
          "name": "stdout"
        },
        {
          "output_type": "display_data",
          "data": {
            "image/png": "[encoded data removed]",
            "text/plain": [
              "<matplotlib.figure.Figure at 0x7f359bb127f0>"
            ]
          },
          "metadata": {
            "tags": []
          }
        }
      ]
    },
    {
      "metadata": {
        "id": "ZApIj65Vr3Z9",
        "colab_type": "text"
      },
      "cell_type": "markdown",
      "source": [
        "# Basic concepts\n",
        "\n",
        "TODO: Go through these concepts in person:\n",
        "1. List\n",
        "1. For loop\n"
      ]
    },
    {
      "metadata": {
        "id": "4Z5RWo9LsOAb",
        "colab_type": "text"
      },
      "cell_type": "markdown",
      "source": [
        "# A string is a list of characters"
      ]
    },
    {
      "metadata": {
        "id": "Vr2Tvf0OsNWs",
        "colab_type": "code",
        "colab": {}
      },
      "cell_type": "code",
      "source": [
        "for c in text:\n",
        "  print(c)"
      ],
      "execution_count": 0,
      "outputs": []
    },
    {
      "metadata": {
        "id": "TaFJcKERsWKK",
        "colab_type": "text"
      },
      "cell_type": "markdown",
      "source": [
        "# How do we keep count of things?\n",
        "\n",
        "TODO: Go through in person:\n",
        "1. Introduce dictionary\n"
      ]
    },
    {
      "metadata": {
        "id": "mfRKHb4GulcI",
        "colab_type": "text"
      },
      "cell_type": "markdown",
      "source": [
        "# Next time! We can figure out how to shift the text."
      ]
    },
    {
      "metadata": {
        "id": "cFE6L_DmPmVU",
        "colab_type": "code",
        "outputId": "f27311a0-9ba5-4965-f117-a20b4cb5629e",
        "colab": {
          "base_uri": "https://localhost:8080/",
          "height": 51
        },
        "cellView": "form"
      },
      "cell_type": "code",
      "source": [
        "#@title Next time: shift the string.\n",
        "\n",
        "text = 'gluhtlishjrvbadvyyplkaohavbyjpwolypzavvdlhrvuuleatlzzhnlzdpajoavcpnlulyljpwolyrlfdvykpzaolopkkluzftivsvmklhaoputfmhcvypalovsilpuluk' #@param {type:\"string\"}\n",
        "shift = -7 #@param {type:\"integer\"}\n",
        "print('The input text is: %s' % text)\n",
        "\n",
        "shifted_text=\"\"\n",
        "for c in text:\n",
        "  new_char = ord(c) + shift\n",
        "  if new_char < ord('a'):\n",
        "    new_char += 26\n",
        "  shifted_text += chr(new_char)\n",
        "  \n",
        "print('The shifted text is: %s' % shifted_text)"
      ],
      "execution_count": 18,
      "outputs": [
        {
          "output_type": "stream",
          "text": [
            "The input text is: gluhtlishjrvbadvyyplkaohavbyjpwolypzavvdlhrvuuleatlzzhnlzdpajoavcpnlulyljpwolyrlfdvykpzaolopkkluzftivsvmklhaoputfmhcvypalovsilpuluk\n",
            "The shifted text is: zenameblackoutworriedthatourcipheristooweakonnextmessageswitchtovigenerecipherkeywordisthehiddensymbolofdeathinmyfavoriteholbeinend\n"
          ],
          "name": "stdout"
        }
      ]
    }
  ]
}